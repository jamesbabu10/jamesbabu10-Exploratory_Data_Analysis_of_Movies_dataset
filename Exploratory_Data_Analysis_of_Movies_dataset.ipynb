{
  "nbformat": 4,
  "nbformat_minor": 0,
  "metadata": {
    "colab": {
      "name": "Exploratory_Data_Analysis_of_Movies_dataset.ipynb",
      "provenance": [],
      "collapsed_sections": []
    },
    "kernelspec": {
      "name": "python3",
      "display_name": "Python 3"
    },
    "language_info": {
      "name": "python"
    }
  },
  "cells": [
    {
      "cell_type": "code",
      "metadata": {
        "id": "rfewrA8Frp_k"
      },
      "source": [
        "import pandas as pd\n",
        "import numpy as np\n",
        "import seaborn as sns\n",
        "import matplotlib.pyplot as plt\n",
        "\n"
      ],
      "execution_count": 1,
      "outputs": []
    },
    {
      "cell_type": "markdown",
      "metadata": {
        "id": "km7YYSLx_gwv"
      },
      "source": [
        "READ THE DATA"
      ]
    },
    {
      "cell_type": "code",
      "metadata": {
        "id": "ionlRnPpwjJd"
      },
      "source": [
        "df=pd.read_csv(\"movies.csv\")"
      ],
      "execution_count": 2,
      "outputs": []
    },
    {
      "cell_type": "code",
      "metadata": {
        "colab": {
          "base_uri": "https://localhost:8080/",
          "height": 503
        },
        "id": "o52Y_pTVwe03",
        "outputId": "5f336eb5-d0de-422d-a80f-16911ddbd8bc"
      },
      "source": [
        "df.head()"
      ],
      "execution_count": 3,
      "outputs": [
        {
          "output_type": "execute_result",
          "data": {
            "text/html": [
              "<div>\n",
              "<style scoped>\n",
              "    .dataframe tbody tr th:only-of-type {\n",
              "        vertical-align: middle;\n",
              "    }\n",
              "\n",
              "    .dataframe tbody tr th {\n",
              "        vertical-align: top;\n",
              "    }\n",
              "\n",
              "    .dataframe thead th {\n",
              "        text-align: right;\n",
              "    }\n",
              "</style>\n",
              "<table border=\"1\" class=\"dataframe\">\n",
              "  <thead>\n",
              "    <tr style=\"text-align: right;\">\n",
              "      <th></th>\n",
              "      <th>name</th>\n",
              "      <th>rating</th>\n",
              "      <th>genre</th>\n",
              "      <th>year</th>\n",
              "      <th>released</th>\n",
              "      <th>score</th>\n",
              "      <th>votes</th>\n",
              "      <th>director</th>\n",
              "      <th>writer</th>\n",
              "      <th>star</th>\n",
              "      <th>country</th>\n",
              "      <th>budget</th>\n",
              "      <th>gross</th>\n",
              "      <th>company</th>\n",
              "      <th>runtime</th>\n",
              "    </tr>\n",
              "  </thead>\n",
              "  <tbody>\n",
              "    <tr>\n",
              "      <th>0</th>\n",
              "      <td>The Shining</td>\n",
              "      <td>R</td>\n",
              "      <td>Drama</td>\n",
              "      <td>1980</td>\n",
              "      <td>June 13, 1980 (United States)</td>\n",
              "      <td>8.4</td>\n",
              "      <td>927000.0</td>\n",
              "      <td>Stanley Kubrick</td>\n",
              "      <td>Stephen King</td>\n",
              "      <td>Jack Nicholson</td>\n",
              "      <td>United Kingdom</td>\n",
              "      <td>19000000.0</td>\n",
              "      <td>46998772.0</td>\n",
              "      <td>Warner Bros.</td>\n",
              "      <td>146.0</td>\n",
              "    </tr>\n",
              "    <tr>\n",
              "      <th>1</th>\n",
              "      <td>The Blue Lagoon</td>\n",
              "      <td>R</td>\n",
              "      <td>Adventure</td>\n",
              "      <td>1980</td>\n",
              "      <td>July 2, 1980 (United States)</td>\n",
              "      <td>5.8</td>\n",
              "      <td>65000.0</td>\n",
              "      <td>Randal Kleiser</td>\n",
              "      <td>Henry De Vere Stacpoole</td>\n",
              "      <td>Brooke Shields</td>\n",
              "      <td>United States</td>\n",
              "      <td>4500000.0</td>\n",
              "      <td>58853106.0</td>\n",
              "      <td>Columbia Pictures</td>\n",
              "      <td>104.0</td>\n",
              "    </tr>\n",
              "    <tr>\n",
              "      <th>2</th>\n",
              "      <td>Star Wars: Episode V - The Empire Strikes Back</td>\n",
              "      <td>PG</td>\n",
              "      <td>Action</td>\n",
              "      <td>1980</td>\n",
              "      <td>June 20, 1980 (United States)</td>\n",
              "      <td>8.7</td>\n",
              "      <td>1200000.0</td>\n",
              "      <td>Irvin Kershner</td>\n",
              "      <td>Leigh Brackett</td>\n",
              "      <td>Mark Hamill</td>\n",
              "      <td>United States</td>\n",
              "      <td>18000000.0</td>\n",
              "      <td>538375067.0</td>\n",
              "      <td>Lucasfilm</td>\n",
              "      <td>124.0</td>\n",
              "    </tr>\n",
              "    <tr>\n",
              "      <th>3</th>\n",
              "      <td>Airplane!</td>\n",
              "      <td>PG</td>\n",
              "      <td>Comedy</td>\n",
              "      <td>1980</td>\n",
              "      <td>July 2, 1980 (United States)</td>\n",
              "      <td>7.7</td>\n",
              "      <td>221000.0</td>\n",
              "      <td>Jim Abrahams</td>\n",
              "      <td>Jim Abrahams</td>\n",
              "      <td>Robert Hays</td>\n",
              "      <td>United States</td>\n",
              "      <td>3500000.0</td>\n",
              "      <td>83453539.0</td>\n",
              "      <td>Paramount Pictures</td>\n",
              "      <td>88.0</td>\n",
              "    </tr>\n",
              "    <tr>\n",
              "      <th>4</th>\n",
              "      <td>Caddyshack</td>\n",
              "      <td>R</td>\n",
              "      <td>Comedy</td>\n",
              "      <td>1980</td>\n",
              "      <td>July 25, 1980 (United States)</td>\n",
              "      <td>7.3</td>\n",
              "      <td>108000.0</td>\n",
              "      <td>Harold Ramis</td>\n",
              "      <td>Brian Doyle-Murray</td>\n",
              "      <td>Chevy Chase</td>\n",
              "      <td>United States</td>\n",
              "      <td>6000000.0</td>\n",
              "      <td>39846344.0</td>\n",
              "      <td>Orion Pictures</td>\n",
              "      <td>98.0</td>\n",
              "    </tr>\n",
              "  </tbody>\n",
              "</table>\n",
              "</div>"
            ],
            "text/plain": [
              "                                             name  ... runtime\n",
              "0                                     The Shining  ...   146.0\n",
              "1                                 The Blue Lagoon  ...   104.0\n",
              "2  Star Wars: Episode V - The Empire Strikes Back  ...   124.0\n",
              "3                                       Airplane!  ...    88.0\n",
              "4                                      Caddyshack  ...    98.0\n",
              "\n",
              "[5 rows x 15 columns]"
            ]
          },
          "metadata": {},
          "execution_count": 3
        }
      ]
    },
    {
      "cell_type": "markdown",
      "metadata": {
        "id": "xWJSBlh2_lDh"
      },
      "source": [
        "CLEANING THE DATA"
      ]
    },
    {
      "cell_type": "code",
      "metadata": {
        "colab": {
          "base_uri": "https://localhost:8080/"
        },
        "id": "T2yiS-Orxyz3",
        "outputId": "7aa34822-38a6-4cfd-ea55-f2d0ec6b9be2"
      },
      "source": [
        "df.info()"
      ],
      "execution_count": 4,
      "outputs": [
        {
          "output_type": "stream",
          "name": "stdout",
          "text": [
            "<class 'pandas.core.frame.DataFrame'>\n",
            "RangeIndex: 7668 entries, 0 to 7667\n",
            "Data columns (total 15 columns):\n",
            " #   Column    Non-Null Count  Dtype  \n",
            "---  ------    --------------  -----  \n",
            " 0   name      7668 non-null   object \n",
            " 1   rating    7591 non-null   object \n",
            " 2   genre     7668 non-null   object \n",
            " 3   year      7668 non-null   int64  \n",
            " 4   released  7666 non-null   object \n",
            " 5   score     7665 non-null   float64\n",
            " 6   votes     7665 non-null   float64\n",
            " 7   director  7668 non-null   object \n",
            " 8   writer    7665 non-null   object \n",
            " 9   star      7667 non-null   object \n",
            " 10  country   7665 non-null   object \n",
            " 11  budget    5497 non-null   float64\n",
            " 12  gross     7479 non-null   float64\n",
            " 13  company   7651 non-null   object \n",
            " 14  runtime   7664 non-null   float64\n",
            "dtypes: float64(5), int64(1), object(9)\n",
            "memory usage: 898.7+ KB\n"
          ]
        }
      ]
    },
    {
      "cell_type": "code",
      "metadata": {
        "colab": {
          "base_uri": "https://localhost:8080/"
        },
        "id": "zqy2WxbwwgBH",
        "outputId": "84bf4c1d-78d4-46f2-b044-673e9bd315ce"
      },
      "source": [
        "#PERCENTAGE OF NULL VALUES IN A COLUMN\n",
        "for col in df.columns:\n",
        "  count=np.mean(df[col].isnull())*100\n",
        "  print('{}-{:.2f}%'.format(col,count))"
      ],
      "execution_count": 5,
      "outputs": [
        {
          "output_type": "stream",
          "name": "stdout",
          "text": [
            "name-0.00%\n",
            "rating-1.00%\n",
            "genre-0.00%\n",
            "year-0.00%\n",
            "released-0.03%\n",
            "score-0.04%\n",
            "votes-0.04%\n",
            "director-0.00%\n",
            "writer-0.04%\n",
            "star-0.01%\n",
            "country-0.04%\n",
            "budget-28.31%\n",
            "gross-2.46%\n",
            "company-0.22%\n",
            "runtime-0.05%\n"
          ]
        }
      ]
    },
    {
      "cell_type": "code",
      "metadata": {
        "id": "0_52iorz6xfB"
      },
      "source": [
        "#GETTING RID OF THE NULL VALUES\n",
        "df.dropna(inplace = True)"
      ],
      "execution_count": 6,
      "outputs": []
    },
    {
      "cell_type": "code",
      "metadata": {
        "colab": {
          "base_uri": "https://localhost:8080/"
        },
        "id": "s2mY_p200uGN",
        "outputId": "f52c6ec8-5949-46c1-a9a9-6352ad0a31c9"
      },
      "source": [
        "df.dtypes"
      ],
      "execution_count": 7,
      "outputs": [
        {
          "output_type": "execute_result",
          "data": {
            "text/plain": [
              "name         object\n",
              "rating       object\n",
              "genre        object\n",
              "year          int64\n",
              "released     object\n",
              "score       float64\n",
              "votes       float64\n",
              "director     object\n",
              "writer       object\n",
              "star         object\n",
              "country      object\n",
              "budget      float64\n",
              "gross       float64\n",
              "company      object\n",
              "runtime     float64\n",
              "dtype: object"
            ]
          },
          "metadata": {},
          "execution_count": 7
        }
      ]
    },
    {
      "cell_type": "code",
      "metadata": {
        "id": "tg470xRp1Jj6",
        "colab": {
          "base_uri": "https://localhost:8080/"
        },
        "outputId": "8ce08fb7-7227-443a-80f6-6df9c970c838"
      },
      "source": [
        "#DATATYPE OF BUDGET AND VOTES WAS FLOAT,CHANING IT TO INTEGER\n",
        "df['budget']=df['budget'].astype('int64')\n",
        "df['votes']=df['votes'].astype('int64')\n",
        "df.dtypes"
      ],
      "execution_count": 8,
      "outputs": [
        {
          "output_type": "execute_result",
          "data": {
            "text/plain": [
              "name         object\n",
              "rating       object\n",
              "genre        object\n",
              "year          int64\n",
              "released     object\n",
              "score       float64\n",
              "votes         int64\n",
              "director     object\n",
              "writer       object\n",
              "star         object\n",
              "country      object\n",
              "budget        int64\n",
              "gross       float64\n",
              "company      object\n",
              "runtime     float64\n",
              "dtype: object"
            ]
          },
          "metadata": {},
          "execution_count": 8
        }
      ]
    },
    {
      "cell_type": "code",
      "metadata": {
        "colab": {
          "base_uri": "https://localhost:8080/"
        },
        "id": "fUVOUihM1azO",
        "outputId": "54d844d2-ff93-4da8-f32d-268a0725fd75"
      },
      "source": [
        "df.released.head()"
      ],
      "execution_count": 9,
      "outputs": [
        {
          "output_type": "execute_result",
          "data": {
            "text/plain": [
              "0    June 13, 1980 (United States)\n",
              "1     July 2, 1980 (United States)\n",
              "2    June 20, 1980 (United States)\n",
              "3     July 2, 1980 (United States)\n",
              "4    July 25, 1980 (United States)\n",
              "Name: released, dtype: object"
            ]
          },
          "metadata": {},
          "execution_count": 9
        }
      ]
    },
    {
      "cell_type": "code",
      "metadata": {
        "id": "IY5RBemc7bRb"
      },
      "source": [
        "#SPLITTING RELEASED INTO RELEASED YEAR AND RELEASED MONTH\n",
        "df['released _Year']=df['released'].apply(lambda x:x.split(',')[-1][1:5])\n",
        "df['released_Month']=df['released'].apply(lambda x:x.split(' ')[0])"
      ],
      "execution_count": 10,
      "outputs": []
    },
    {
      "cell_type": "code",
      "metadata": {
        "colab": {
          "base_uri": "https://localhost:8080/",
          "height": 521
        },
        "id": "j36cWSykK-Y5",
        "outputId": "5cde80b7-2b6a-4674-fad2-e8215be85910"
      },
      "source": [
        "df.head()"
      ],
      "execution_count": 11,
      "outputs": [
        {
          "output_type": "execute_result",
          "data": {
            "text/html": [
              "<div>\n",
              "<style scoped>\n",
              "    .dataframe tbody tr th:only-of-type {\n",
              "        vertical-align: middle;\n",
              "    }\n",
              "\n",
              "    .dataframe tbody tr th {\n",
              "        vertical-align: top;\n",
              "    }\n",
              "\n",
              "    .dataframe thead th {\n",
              "        text-align: right;\n",
              "    }\n",
              "</style>\n",
              "<table border=\"1\" class=\"dataframe\">\n",
              "  <thead>\n",
              "    <tr style=\"text-align: right;\">\n",
              "      <th></th>\n",
              "      <th>name</th>\n",
              "      <th>rating</th>\n",
              "      <th>genre</th>\n",
              "      <th>year</th>\n",
              "      <th>released</th>\n",
              "      <th>score</th>\n",
              "      <th>votes</th>\n",
              "      <th>director</th>\n",
              "      <th>writer</th>\n",
              "      <th>star</th>\n",
              "      <th>country</th>\n",
              "      <th>budget</th>\n",
              "      <th>gross</th>\n",
              "      <th>company</th>\n",
              "      <th>runtime</th>\n",
              "      <th>released _Year</th>\n",
              "      <th>released_Month</th>\n",
              "    </tr>\n",
              "  </thead>\n",
              "  <tbody>\n",
              "    <tr>\n",
              "      <th>0</th>\n",
              "      <td>The Shining</td>\n",
              "      <td>R</td>\n",
              "      <td>Drama</td>\n",
              "      <td>1980</td>\n",
              "      <td>June 13, 1980 (United States)</td>\n",
              "      <td>8.4</td>\n",
              "      <td>927000</td>\n",
              "      <td>Stanley Kubrick</td>\n",
              "      <td>Stephen King</td>\n",
              "      <td>Jack Nicholson</td>\n",
              "      <td>United Kingdom</td>\n",
              "      <td>19000000</td>\n",
              "      <td>46998772.0</td>\n",
              "      <td>Warner Bros.</td>\n",
              "      <td>146.0</td>\n",
              "      <td>1980</td>\n",
              "      <td>June</td>\n",
              "    </tr>\n",
              "    <tr>\n",
              "      <th>1</th>\n",
              "      <td>The Blue Lagoon</td>\n",
              "      <td>R</td>\n",
              "      <td>Adventure</td>\n",
              "      <td>1980</td>\n",
              "      <td>July 2, 1980 (United States)</td>\n",
              "      <td>5.8</td>\n",
              "      <td>65000</td>\n",
              "      <td>Randal Kleiser</td>\n",
              "      <td>Henry De Vere Stacpoole</td>\n",
              "      <td>Brooke Shields</td>\n",
              "      <td>United States</td>\n",
              "      <td>4500000</td>\n",
              "      <td>58853106.0</td>\n",
              "      <td>Columbia Pictures</td>\n",
              "      <td>104.0</td>\n",
              "      <td>1980</td>\n",
              "      <td>July</td>\n",
              "    </tr>\n",
              "    <tr>\n",
              "      <th>2</th>\n",
              "      <td>Star Wars: Episode V - The Empire Strikes Back</td>\n",
              "      <td>PG</td>\n",
              "      <td>Action</td>\n",
              "      <td>1980</td>\n",
              "      <td>June 20, 1980 (United States)</td>\n",
              "      <td>8.7</td>\n",
              "      <td>1200000</td>\n",
              "      <td>Irvin Kershner</td>\n",
              "      <td>Leigh Brackett</td>\n",
              "      <td>Mark Hamill</td>\n",
              "      <td>United States</td>\n",
              "      <td>18000000</td>\n",
              "      <td>538375067.0</td>\n",
              "      <td>Lucasfilm</td>\n",
              "      <td>124.0</td>\n",
              "      <td>1980</td>\n",
              "      <td>June</td>\n",
              "    </tr>\n",
              "    <tr>\n",
              "      <th>3</th>\n",
              "      <td>Airplane!</td>\n",
              "      <td>PG</td>\n",
              "      <td>Comedy</td>\n",
              "      <td>1980</td>\n",
              "      <td>July 2, 1980 (United States)</td>\n",
              "      <td>7.7</td>\n",
              "      <td>221000</td>\n",
              "      <td>Jim Abrahams</td>\n",
              "      <td>Jim Abrahams</td>\n",
              "      <td>Robert Hays</td>\n",
              "      <td>United States</td>\n",
              "      <td>3500000</td>\n",
              "      <td>83453539.0</td>\n",
              "      <td>Paramount Pictures</td>\n",
              "      <td>88.0</td>\n",
              "      <td>1980</td>\n",
              "      <td>July</td>\n",
              "    </tr>\n",
              "    <tr>\n",
              "      <th>4</th>\n",
              "      <td>Caddyshack</td>\n",
              "      <td>R</td>\n",
              "      <td>Comedy</td>\n",
              "      <td>1980</td>\n",
              "      <td>July 25, 1980 (United States)</td>\n",
              "      <td>7.3</td>\n",
              "      <td>108000</td>\n",
              "      <td>Harold Ramis</td>\n",
              "      <td>Brian Doyle-Murray</td>\n",
              "      <td>Chevy Chase</td>\n",
              "      <td>United States</td>\n",
              "      <td>6000000</td>\n",
              "      <td>39846344.0</td>\n",
              "      <td>Orion Pictures</td>\n",
              "      <td>98.0</td>\n",
              "      <td>1980</td>\n",
              "      <td>July</td>\n",
              "    </tr>\n",
              "  </tbody>\n",
              "</table>\n",
              "</div>"
            ],
            "text/plain": [
              "                                             name  ... released_Month\n",
              "0                                     The Shining  ...           June\n",
              "1                                 The Blue Lagoon  ...           July\n",
              "2  Star Wars: Episode V - The Empire Strikes Back  ...           June\n",
              "3                                       Airplane!  ...           July\n",
              "4                                      Caddyshack  ...           July\n",
              "\n",
              "[5 rows x 17 columns]"
            ]
          },
          "metadata": {},
          "execution_count": 11
        }
      ]
    },
    {
      "cell_type": "code",
      "metadata": {
        "colab": {
          "base_uri": "https://localhost:8080/",
          "height": 928
        },
        "id": "pjAR8lLF9nxf",
        "outputId": "98b16813-635c-4a7e-90d8-d0da8537978d"
      },
      "source": [
        "df.sort_values(by=['gross'],ascending=False)"
      ],
      "execution_count": 12,
      "outputs": [
        {
          "output_type": "execute_result",
          "data": {
            "text/html": [
              "<div>\n",
              "<style scoped>\n",
              "    .dataframe tbody tr th:only-of-type {\n",
              "        vertical-align: middle;\n",
              "    }\n",
              "\n",
              "    .dataframe tbody tr th {\n",
              "        vertical-align: top;\n",
              "    }\n",
              "\n",
              "    .dataframe thead th {\n",
              "        text-align: right;\n",
              "    }\n",
              "</style>\n",
              "<table border=\"1\" class=\"dataframe\">\n",
              "  <thead>\n",
              "    <tr style=\"text-align: right;\">\n",
              "      <th></th>\n",
              "      <th>name</th>\n",
              "      <th>rating</th>\n",
              "      <th>genre</th>\n",
              "      <th>year</th>\n",
              "      <th>released</th>\n",
              "      <th>score</th>\n",
              "      <th>votes</th>\n",
              "      <th>director</th>\n",
              "      <th>writer</th>\n",
              "      <th>star</th>\n",
              "      <th>country</th>\n",
              "      <th>budget</th>\n",
              "      <th>gross</th>\n",
              "      <th>company</th>\n",
              "      <th>runtime</th>\n",
              "      <th>released _Year</th>\n",
              "      <th>released_Month</th>\n",
              "    </tr>\n",
              "  </thead>\n",
              "  <tbody>\n",
              "    <tr>\n",
              "      <th>5445</th>\n",
              "      <td>Avatar</td>\n",
              "      <td>PG-13</td>\n",
              "      <td>Action</td>\n",
              "      <td>2009</td>\n",
              "      <td>December 18, 2009 (United States)</td>\n",
              "      <td>7.8</td>\n",
              "      <td>1100000</td>\n",
              "      <td>James Cameron</td>\n",
              "      <td>James Cameron</td>\n",
              "      <td>Sam Worthington</td>\n",
              "      <td>United States</td>\n",
              "      <td>237000000</td>\n",
              "      <td>2.847246e+09</td>\n",
              "      <td>Twentieth Century Fox</td>\n",
              "      <td>162.0</td>\n",
              "      <td>2009</td>\n",
              "      <td>December</td>\n",
              "    </tr>\n",
              "    <tr>\n",
              "      <th>7445</th>\n",
              "      <td>Avengers: Endgame</td>\n",
              "      <td>PG-13</td>\n",
              "      <td>Action</td>\n",
              "      <td>2019</td>\n",
              "      <td>April 26, 2019 (United States)</td>\n",
              "      <td>8.4</td>\n",
              "      <td>903000</td>\n",
              "      <td>Anthony Russo</td>\n",
              "      <td>Christopher Markus</td>\n",
              "      <td>Robert Downey Jr.</td>\n",
              "      <td>United States</td>\n",
              "      <td>356000000</td>\n",
              "      <td>2.797501e+09</td>\n",
              "      <td>Marvel Studios</td>\n",
              "      <td>181.0</td>\n",
              "      <td>2019</td>\n",
              "      <td>April</td>\n",
              "    </tr>\n",
              "    <tr>\n",
              "      <th>3045</th>\n",
              "      <td>Titanic</td>\n",
              "      <td>PG-13</td>\n",
              "      <td>Drama</td>\n",
              "      <td>1997</td>\n",
              "      <td>December 19, 1997 (United States)</td>\n",
              "      <td>7.8</td>\n",
              "      <td>1100000</td>\n",
              "      <td>James Cameron</td>\n",
              "      <td>James Cameron</td>\n",
              "      <td>Leonardo DiCaprio</td>\n",
              "      <td>United States</td>\n",
              "      <td>200000000</td>\n",
              "      <td>2.201647e+09</td>\n",
              "      <td>Twentieth Century Fox</td>\n",
              "      <td>194.0</td>\n",
              "      <td>1997</td>\n",
              "      <td>December</td>\n",
              "    </tr>\n",
              "    <tr>\n",
              "      <th>6663</th>\n",
              "      <td>Star Wars: Episode VII - The Force Awakens</td>\n",
              "      <td>PG-13</td>\n",
              "      <td>Action</td>\n",
              "      <td>2015</td>\n",
              "      <td>December 18, 2015 (United States)</td>\n",
              "      <td>7.8</td>\n",
              "      <td>876000</td>\n",
              "      <td>J.J. Abrams</td>\n",
              "      <td>Lawrence Kasdan</td>\n",
              "      <td>Daisy Ridley</td>\n",
              "      <td>United States</td>\n",
              "      <td>245000000</td>\n",
              "      <td>2.069522e+09</td>\n",
              "      <td>Lucasfilm</td>\n",
              "      <td>138.0</td>\n",
              "      <td>2015</td>\n",
              "      <td>December</td>\n",
              "    </tr>\n",
              "    <tr>\n",
              "      <th>7244</th>\n",
              "      <td>Avengers: Infinity War</td>\n",
              "      <td>PG-13</td>\n",
              "      <td>Action</td>\n",
              "      <td>2018</td>\n",
              "      <td>April 27, 2018 (United States)</td>\n",
              "      <td>8.4</td>\n",
              "      <td>897000</td>\n",
              "      <td>Anthony Russo</td>\n",
              "      <td>Christopher Markus</td>\n",
              "      <td>Robert Downey Jr.</td>\n",
              "      <td>United States</td>\n",
              "      <td>321000000</td>\n",
              "      <td>2.048360e+09</td>\n",
              "      <td>Marvel Studios</td>\n",
              "      <td>149.0</td>\n",
              "      <td>2018</td>\n",
              "      <td>April</td>\n",
              "    </tr>\n",
              "    <tr>\n",
              "      <th>...</th>\n",
              "      <td>...</td>\n",
              "      <td>...</td>\n",
              "      <td>...</td>\n",
              "      <td>...</td>\n",
              "      <td>...</td>\n",
              "      <td>...</td>\n",
              "      <td>...</td>\n",
              "      <td>...</td>\n",
              "      <td>...</td>\n",
              "      <td>...</td>\n",
              "      <td>...</td>\n",
              "      <td>...</td>\n",
              "      <td>...</td>\n",
              "      <td>...</td>\n",
              "      <td>...</td>\n",
              "      <td>...</td>\n",
              "      <td>...</td>\n",
              "    </tr>\n",
              "    <tr>\n",
              "      <th>5640</th>\n",
              "      <td>Tanner Hall</td>\n",
              "      <td>R</td>\n",
              "      <td>Drama</td>\n",
              "      <td>2009</td>\n",
              "      <td>January 15, 2015 (Sweden)</td>\n",
              "      <td>5.8</td>\n",
              "      <td>3500</td>\n",
              "      <td>Francesca Gregorini</td>\n",
              "      <td>Tatiana von Fürstenberg</td>\n",
              "      <td>Rooney Mara</td>\n",
              "      <td>United States</td>\n",
              "      <td>3000000</td>\n",
              "      <td>5.073000e+03</td>\n",
              "      <td>Two Prong Lesson</td>\n",
              "      <td>96.0</td>\n",
              "      <td>2015</td>\n",
              "      <td>January</td>\n",
              "    </tr>\n",
              "    <tr>\n",
              "      <th>2434</th>\n",
              "      <td>Philadelphia Experiment II</td>\n",
              "      <td>PG-13</td>\n",
              "      <td>Action</td>\n",
              "      <td>1993</td>\n",
              "      <td>June 4, 1994 (South Korea)</td>\n",
              "      <td>4.5</td>\n",
              "      <td>1900</td>\n",
              "      <td>Stephen Cornwell</td>\n",
              "      <td>Wallace C. Bennett</td>\n",
              "      <td>Brad Johnson</td>\n",
              "      <td>United States</td>\n",
              "      <td>5000000</td>\n",
              "      <td>2.970000e+03</td>\n",
              "      <td>Trimark Pictures</td>\n",
              "      <td>97.0</td>\n",
              "      <td>1994</td>\n",
              "      <td>June</td>\n",
              "    </tr>\n",
              "    <tr>\n",
              "      <th>3681</th>\n",
              "      <td>Ginger Snaps</td>\n",
              "      <td>Not Rated</td>\n",
              "      <td>Drama</td>\n",
              "      <td>2000</td>\n",
              "      <td>May 11, 2001 (Canada)</td>\n",
              "      <td>6.8</td>\n",
              "      <td>43000</td>\n",
              "      <td>John Fawcett</td>\n",
              "      <td>Karen Walton</td>\n",
              "      <td>Emily Perkins</td>\n",
              "      <td>Canada</td>\n",
              "      <td>5000000</td>\n",
              "      <td>2.554000e+03</td>\n",
              "      <td>Copperheart Entertainment</td>\n",
              "      <td>108.0</td>\n",
              "      <td>2001</td>\n",
              "      <td>May</td>\n",
              "    </tr>\n",
              "    <tr>\n",
              "      <th>272</th>\n",
              "      <td>Parasite</td>\n",
              "      <td>R</td>\n",
              "      <td>Horror</td>\n",
              "      <td>1982</td>\n",
              "      <td>March 12, 1982 (United States)</td>\n",
              "      <td>3.9</td>\n",
              "      <td>2300</td>\n",
              "      <td>Charles Band</td>\n",
              "      <td>Alan J. Adler</td>\n",
              "      <td>Robert Glaudini</td>\n",
              "      <td>United States</td>\n",
              "      <td>800000</td>\n",
              "      <td>2.270000e+03</td>\n",
              "      <td>Embassy Pictures</td>\n",
              "      <td>85.0</td>\n",
              "      <td>1982</td>\n",
              "      <td>March</td>\n",
              "    </tr>\n",
              "    <tr>\n",
              "      <th>3203</th>\n",
              "      <td>Trojan War</td>\n",
              "      <td>PG-13</td>\n",
              "      <td>Comedy</td>\n",
              "      <td>1997</td>\n",
              "      <td>October 1, 1997 (Brazil)</td>\n",
              "      <td>5.7</td>\n",
              "      <td>5800</td>\n",
              "      <td>George Huang</td>\n",
              "      <td>Andy Burg</td>\n",
              "      <td>Will Friedle</td>\n",
              "      <td>United States</td>\n",
              "      <td>15000000</td>\n",
              "      <td>3.090000e+02</td>\n",
              "      <td>Daybreak</td>\n",
              "      <td>85.0</td>\n",
              "      <td>1997</td>\n",
              "      <td>October</td>\n",
              "    </tr>\n",
              "  </tbody>\n",
              "</table>\n",
              "<p>5421 rows × 17 columns</p>\n",
              "</div>"
            ],
            "text/plain": [
              "                                            name  ... released_Month\n",
              "5445                                      Avatar  ...       December\n",
              "7445                           Avengers: Endgame  ...          April\n",
              "3045                                     Titanic  ...       December\n",
              "6663  Star Wars: Episode VII - The Force Awakens  ...       December\n",
              "7244                      Avengers: Infinity War  ...          April\n",
              "...                                          ...  ...            ...\n",
              "5640                                 Tanner Hall  ...        January\n",
              "2434                  Philadelphia Experiment II  ...           June\n",
              "3681                                Ginger Snaps  ...            May\n",
              "272                                     Parasite  ...          March\n",
              "3203                                  Trojan War  ...        October\n",
              "\n",
              "[5421 rows x 17 columns]"
            ]
          },
          "metadata": {},
          "execution_count": 12
        }
      ]
    },
    {
      "cell_type": "code",
      "metadata": {
        "id": "bt6O9wGKJ2e5"
      },
      "source": [
        "#GETTING ACTORS WITH ATLEASET 5 MOVIES\n",
        "top_star_count = df.groupby(['star'])['name'].count().to_frame().sort_values('name',ascending=False)\n",
        "top_star_count = top_star_count[top_star_count['name'] >= 5]\n",
        "top_star_count.rename(columns={'name': 'count'},inplace=True)"
      ],
      "execution_count": 13,
      "outputs": []
    },
    {
      "cell_type": "code",
      "metadata": {
        "colab": {
          "base_uri": "https://localhost:8080/",
          "height": 237
        },
        "id": "QzI7B8fMM49_",
        "outputId": "4a7da63c-0b4c-4d2f-b37c-b6e343823d26"
      },
      "source": [
        "top_star_count.head()"
      ],
      "execution_count": 14,
      "outputs": [
        {
          "output_type": "execute_result",
          "data": {
            "text/html": [
              "<div>\n",
              "<style scoped>\n",
              "    .dataframe tbody tr th:only-of-type {\n",
              "        vertical-align: middle;\n",
              "    }\n",
              "\n",
              "    .dataframe tbody tr th {\n",
              "        vertical-align: top;\n",
              "    }\n",
              "\n",
              "    .dataframe thead th {\n",
              "        text-align: right;\n",
              "    }\n",
              "</style>\n",
              "<table border=\"1\" class=\"dataframe\">\n",
              "  <thead>\n",
              "    <tr style=\"text-align: right;\">\n",
              "      <th></th>\n",
              "      <th>count</th>\n",
              "    </tr>\n",
              "    <tr>\n",
              "      <th>star</th>\n",
              "      <th></th>\n",
              "    </tr>\n",
              "  </thead>\n",
              "  <tbody>\n",
              "    <tr>\n",
              "      <th>Nicolas Cage</th>\n",
              "      <td>40</td>\n",
              "    </tr>\n",
              "    <tr>\n",
              "      <th>Tom Hanks</th>\n",
              "      <td>38</td>\n",
              "    </tr>\n",
              "    <tr>\n",
              "      <th>Robert De Niro</th>\n",
              "      <td>38</td>\n",
              "    </tr>\n",
              "    <tr>\n",
              "      <th>Bruce Willis</th>\n",
              "      <td>34</td>\n",
              "    </tr>\n",
              "    <tr>\n",
              "      <th>Tom Cruise</th>\n",
              "      <td>33</td>\n",
              "    </tr>\n",
              "  </tbody>\n",
              "</table>\n",
              "</div>"
            ],
            "text/plain": [
              "                count\n",
              "star                 \n",
              "Nicolas Cage       40\n",
              "Tom Hanks          38\n",
              "Robert De Niro     38\n",
              "Bruce Willis       34\n",
              "Tom Cruise         33"
            ]
          },
          "metadata": {},
          "execution_count": 14
        }
      ]
    },
    {
      "cell_type": "code",
      "metadata": {
        "id": "yq5hBEqONZOJ"
      },
      "source": [
        "#GETTING ACTORS WITH ATLEASET 5 MOVIES\n",
        "top_director_count = df.groupby(['director'])['name'].count().to_frame().sort_values('name',ascending=False)\n",
        "top_director_count = top_director_count[top_director_count['name'] >= 5]\n",
        "top_director_count.rename(columns={'name':'count'},inplace=True)"
      ],
      "execution_count": 15,
      "outputs": []
    },
    {
      "cell_type": "code",
      "metadata": {
        "colab": {
          "base_uri": "https://localhost:8080/",
          "height": 237
        },
        "id": "x1E58tbVQCA2",
        "outputId": "979afe1e-6bcb-4fea-b967-16d1f22e700e"
      },
      "source": [
        "top_director_count.head()"
      ],
      "execution_count": 16,
      "outputs": [
        {
          "output_type": "execute_result",
          "data": {
            "text/html": [
              "<div>\n",
              "<style scoped>\n",
              "    .dataframe tbody tr th:only-of-type {\n",
              "        vertical-align: middle;\n",
              "    }\n",
              "\n",
              "    .dataframe tbody tr th {\n",
              "        vertical-align: top;\n",
              "    }\n",
              "\n",
              "    .dataframe thead th {\n",
              "        text-align: right;\n",
              "    }\n",
              "</style>\n",
              "<table border=\"1\" class=\"dataframe\">\n",
              "  <thead>\n",
              "    <tr style=\"text-align: right;\">\n",
              "      <th></th>\n",
              "      <th>count</th>\n",
              "    </tr>\n",
              "    <tr>\n",
              "      <th>director</th>\n",
              "      <th></th>\n",
              "    </tr>\n",
              "  </thead>\n",
              "  <tbody>\n",
              "    <tr>\n",
              "      <th>Woody Allen</th>\n",
              "      <td>33</td>\n",
              "    </tr>\n",
              "    <tr>\n",
              "      <th>Clint Eastwood</th>\n",
              "      <td>31</td>\n",
              "    </tr>\n",
              "    <tr>\n",
              "      <th>Steven Spielberg</th>\n",
              "      <td>27</td>\n",
              "    </tr>\n",
              "    <tr>\n",
              "      <th>Ron Howard</th>\n",
              "      <td>23</td>\n",
              "    </tr>\n",
              "    <tr>\n",
              "      <th>Ridley Scott</th>\n",
              "      <td>23</td>\n",
              "    </tr>\n",
              "  </tbody>\n",
              "</table>\n",
              "</div>"
            ],
            "text/plain": [
              "                  count\n",
              "director               \n",
              "Woody Allen          33\n",
              "Clint Eastwood       31\n",
              "Steven Spielberg     27\n",
              "Ron Howard           23\n",
              "Ridley Scott         23"
            ]
          },
          "metadata": {},
          "execution_count": 16
        }
      ]
    },
    {
      "cell_type": "code",
      "metadata": {
        "id": "QC71zHYbT41u"
      },
      "source": [
        "top_star_gross = df.groupby(['star'])['gross'].sum().to_frame().reset_index()\n",
        "top_director_gross = df.groupby(['director'])['gross'].sum().to_frame().reset_index()"
      ],
      "execution_count": 17,
      "outputs": []
    },
    {
      "cell_type": "code",
      "metadata": {
        "id": "iCL6iycwUvuN"
      },
      "source": [
        "#ADDING GROSS INCOME OF THE ACTOR AND DIRECTOR\n",
        "top_star=pd.merge(top_star_count,top_star_gross,on='star')\n",
        "top_director=pd.merge(top_director_count,top_director_gross,on='director')"
      ],
      "execution_count": 18,
      "outputs": []
    },
    {
      "cell_type": "code",
      "metadata": {
        "colab": {
          "base_uri": "https://localhost:8080/",
          "height": 206
        },
        "id": "37udjycMUY-Z",
        "outputId": "c650d85e-7d3c-4f5d-a64e-4d4292c9d286"
      },
      "source": [
        "top_star.head()"
      ],
      "execution_count": 19,
      "outputs": [
        {
          "output_type": "execute_result",
          "data": {
            "text/html": [
              "<div>\n",
              "<style scoped>\n",
              "    .dataframe tbody tr th:only-of-type {\n",
              "        vertical-align: middle;\n",
              "    }\n",
              "\n",
              "    .dataframe tbody tr th {\n",
              "        vertical-align: top;\n",
              "    }\n",
              "\n",
              "    .dataframe thead th {\n",
              "        text-align: right;\n",
              "    }\n",
              "</style>\n",
              "<table border=\"1\" class=\"dataframe\">\n",
              "  <thead>\n",
              "    <tr style=\"text-align: right;\">\n",
              "      <th></th>\n",
              "      <th>star</th>\n",
              "      <th>count</th>\n",
              "      <th>gross</th>\n",
              "    </tr>\n",
              "  </thead>\n",
              "  <tbody>\n",
              "    <tr>\n",
              "      <th>0</th>\n",
              "      <td>Nicolas Cage</td>\n",
              "      <td>40</td>\n",
              "      <td>4.159283e+09</td>\n",
              "    </tr>\n",
              "    <tr>\n",
              "      <th>1</th>\n",
              "      <td>Tom Hanks</td>\n",
              "      <td>38</td>\n",
              "      <td>9.899945e+09</td>\n",
              "    </tr>\n",
              "    <tr>\n",
              "      <th>2</th>\n",
              "      <td>Robert De Niro</td>\n",
              "      <td>38</td>\n",
              "      <td>2.308585e+09</td>\n",
              "    </tr>\n",
              "    <tr>\n",
              "      <th>3</th>\n",
              "      <td>Bruce Willis</td>\n",
              "      <td>34</td>\n",
              "      <td>5.318951e+09</td>\n",
              "    </tr>\n",
              "    <tr>\n",
              "      <th>4</th>\n",
              "      <td>Tom Cruise</td>\n",
              "      <td>33</td>\n",
              "      <td>9.440310e+09</td>\n",
              "    </tr>\n",
              "  </tbody>\n",
              "</table>\n",
              "</div>"
            ],
            "text/plain": [
              "             star  count         gross\n",
              "0    Nicolas Cage     40  4.159283e+09\n",
              "1       Tom Hanks     38  9.899945e+09\n",
              "2  Robert De Niro     38  2.308585e+09\n",
              "3    Bruce Willis     34  5.318951e+09\n",
              "4      Tom Cruise     33  9.440310e+09"
            ]
          },
          "metadata": {},
          "execution_count": 19
        }
      ]
    },
    {
      "cell_type": "code",
      "metadata": {
        "colab": {
          "base_uri": "https://localhost:8080/",
          "height": 206
        },
        "id": "TAOdu2TaUaAV",
        "outputId": "ad7597d3-67e0-4fed-d803-01e79baa97cf"
      },
      "source": [
        "top_director.head()"
      ],
      "execution_count": 20,
      "outputs": [
        {
          "output_type": "execute_result",
          "data": {
            "text/html": [
              "<div>\n",
              "<style scoped>\n",
              "    .dataframe tbody tr th:only-of-type {\n",
              "        vertical-align: middle;\n",
              "    }\n",
              "\n",
              "    .dataframe tbody tr th {\n",
              "        vertical-align: top;\n",
              "    }\n",
              "\n",
              "    .dataframe thead th {\n",
              "        text-align: right;\n",
              "    }\n",
              "</style>\n",
              "<table border=\"1\" class=\"dataframe\">\n",
              "  <thead>\n",
              "    <tr style=\"text-align: right;\">\n",
              "      <th></th>\n",
              "      <th>director</th>\n",
              "      <th>count</th>\n",
              "      <th>gross</th>\n",
              "    </tr>\n",
              "  </thead>\n",
              "  <tbody>\n",
              "    <tr>\n",
              "      <th>0</th>\n",
              "      <td>Woody Allen</td>\n",
              "      <td>33</td>\n",
              "      <td>9.439916e+08</td>\n",
              "    </tr>\n",
              "    <tr>\n",
              "      <th>1</th>\n",
              "      <td>Clint Eastwood</td>\n",
              "      <td>31</td>\n",
              "      <td>3.275522e+09</td>\n",
              "    </tr>\n",
              "    <tr>\n",
              "      <th>2</th>\n",
              "      <td>Steven Spielberg</td>\n",
              "      <td>27</td>\n",
              "      <td>9.629049e+09</td>\n",
              "    </tr>\n",
              "    <tr>\n",
              "      <th>3</th>\n",
              "      <td>Ron Howard</td>\n",
              "      <td>23</td>\n",
              "      <td>4.388093e+09</td>\n",
              "    </tr>\n",
              "    <tr>\n",
              "      <th>4</th>\n",
              "      <td>Ridley Scott</td>\n",
              "      <td>23</td>\n",
              "      <td>4.006716e+09</td>\n",
              "    </tr>\n",
              "  </tbody>\n",
              "</table>\n",
              "</div>"
            ],
            "text/plain": [
              "           director  count         gross\n",
              "0       Woody Allen     33  9.439916e+08\n",
              "1    Clint Eastwood     31  3.275522e+09\n",
              "2  Steven Spielberg     27  9.629049e+09\n",
              "3        Ron Howard     23  4.388093e+09\n",
              "4      Ridley Scott     23  4.006716e+09"
            ]
          },
          "metadata": {},
          "execution_count": 20
        }
      ]
    },
    {
      "cell_type": "code",
      "metadata": {
        "id": "ulInzsdUWVHw"
      },
      "source": [
        "#GETTING AVERAGE INCOME\n",
        "top_star['average_earning'] = top_star['gross']/top_star['count']\n",
        "top_director['average_earning'] = top_director['gross']/top_director['count']"
      ],
      "execution_count": 21,
      "outputs": []
    },
    {
      "cell_type": "code",
      "metadata": {
        "id": "8bIJg93oYvpi"
      },
      "source": [
        "top_star = top_star.sort_values(by='average_earning', ascending=False).head(10)\n",
        "top_director = top_director.sort_values(by='average_earning', ascending=False).head(10)"
      ],
      "execution_count": 22,
      "outputs": []
    },
    {
      "cell_type": "code",
      "metadata": {
        "id": "JbpqkLz0ZXcs"
      },
      "source": [
        "top_star_score = df.groupby(['star'])['score'].mean().to_frame()\n",
        "top_director_score = df.groupby(['director'])['score'].mean().to_frame()"
      ],
      "execution_count": 23,
      "outputs": []
    },
    {
      "cell_type": "code",
      "metadata": {
        "colab": {
          "base_uri": "https://localhost:8080/",
          "height": 237
        },
        "id": "cDxMlovMsWrI",
        "outputId": "9529b9c9-8bcd-412c-d72b-31e9b559e93e"
      },
      "source": [
        "top_star_score.head()"
      ],
      "execution_count": 24,
      "outputs": [
        {
          "output_type": "execute_result",
          "data": {
            "text/html": [
              "<div>\n",
              "<style scoped>\n",
              "    .dataframe tbody tr th:only-of-type {\n",
              "        vertical-align: middle;\n",
              "    }\n",
              "\n",
              "    .dataframe tbody tr th {\n",
              "        vertical-align: top;\n",
              "    }\n",
              "\n",
              "    .dataframe thead th {\n",
              "        text-align: right;\n",
              "    }\n",
              "</style>\n",
              "<table border=\"1\" class=\"dataframe\">\n",
              "  <thead>\n",
              "    <tr style=\"text-align: right;\">\n",
              "      <th></th>\n",
              "      <th>score</th>\n",
              "    </tr>\n",
              "    <tr>\n",
              "      <th>star</th>\n",
              "      <th></th>\n",
              "    </tr>\n",
              "  </thead>\n",
              "  <tbody>\n",
              "    <tr>\n",
              "      <th>'Weird Al' Yankovic</th>\n",
              "      <td>7.0</td>\n",
              "    </tr>\n",
              "    <tr>\n",
              "      <th>50 Cent</th>\n",
              "      <td>5.4</td>\n",
              "    </tr>\n",
              "    <tr>\n",
              "      <th>A.J. Cook</th>\n",
              "      <td>6.2</td>\n",
              "    </tr>\n",
              "    <tr>\n",
              "      <th>Aaliyah</th>\n",
              "      <td>5.3</td>\n",
              "    </tr>\n",
              "    <tr>\n",
              "      <th>Aamir Khan</th>\n",
              "      <td>7.2</td>\n",
              "    </tr>\n",
              "  </tbody>\n",
              "</table>\n",
              "</div>"
            ],
            "text/plain": [
              "                     score\n",
              "star                      \n",
              "'Weird Al' Yankovic    7.0\n",
              "50 Cent                5.4\n",
              "A.J. Cook              6.2\n",
              "Aaliyah                5.3\n",
              "Aamir Khan             7.2"
            ]
          },
          "metadata": {},
          "execution_count": 24
        }
      ]
    },
    {
      "cell_type": "code",
      "metadata": {
        "colab": {
          "base_uri": "https://localhost:8080/",
          "height": 237
        },
        "id": "1Dy7NjzrZjhs",
        "outputId": "4eb228ea-015f-455a-fe6a-338c45995a0c"
      },
      "source": [
        "top_star_score=pd.merge(top_star_count,top_star_score,on='star')\n",
        "top_director_score=pd.merge(top_director_count,top_director_score,on='director')\n",
        "top_star_score.head()"
      ],
      "execution_count": 25,
      "outputs": [
        {
          "output_type": "execute_result",
          "data": {
            "text/html": [
              "<div>\n",
              "<style scoped>\n",
              "    .dataframe tbody tr th:only-of-type {\n",
              "        vertical-align: middle;\n",
              "    }\n",
              "\n",
              "    .dataframe tbody tr th {\n",
              "        vertical-align: top;\n",
              "    }\n",
              "\n",
              "    .dataframe thead th {\n",
              "        text-align: right;\n",
              "    }\n",
              "</style>\n",
              "<table border=\"1\" class=\"dataframe\">\n",
              "  <thead>\n",
              "    <tr style=\"text-align: right;\">\n",
              "      <th></th>\n",
              "      <th>count</th>\n",
              "      <th>score</th>\n",
              "    </tr>\n",
              "    <tr>\n",
              "      <th>star</th>\n",
              "      <th></th>\n",
              "      <th></th>\n",
              "    </tr>\n",
              "  </thead>\n",
              "  <tbody>\n",
              "    <tr>\n",
              "      <th>Nicolas Cage</th>\n",
              "      <td>40</td>\n",
              "      <td>6.207500</td>\n",
              "    </tr>\n",
              "    <tr>\n",
              "      <th>Tom Hanks</th>\n",
              "      <td>38</td>\n",
              "      <td>7.092105</td>\n",
              "    </tr>\n",
              "    <tr>\n",
              "      <th>Robert De Niro</th>\n",
              "      <td>38</td>\n",
              "      <td>6.721053</td>\n",
              "    </tr>\n",
              "    <tr>\n",
              "      <th>Bruce Willis</th>\n",
              "      <td>34</td>\n",
              "      <td>6.514706</td>\n",
              "    </tr>\n",
              "    <tr>\n",
              "      <th>Tom Cruise</th>\n",
              "      <td>33</td>\n",
              "      <td>6.833333</td>\n",
              "    </tr>\n",
              "  </tbody>\n",
              "</table>\n",
              "</div>"
            ],
            "text/plain": [
              "                count     score\n",
              "star                           \n",
              "Nicolas Cage       40  6.207500\n",
              "Tom Hanks          38  7.092105\n",
              "Robert De Niro     38  6.721053\n",
              "Bruce Willis       34  6.514706\n",
              "Tom Cruise         33  6.833333"
            ]
          },
          "metadata": {},
          "execution_count": 25
        }
      ]
    },
    {
      "cell_type": "code",
      "metadata": {
        "id": "GxtBmVvHulEV"
      },
      "source": [
        "#SORTING START AND DIRECTOR ON THE BASIS ON THE AVERAGE INCOME\n",
        "top_star_score = top_star_score.sort_values(by='score', ascending=False).head(10).reset_index()\n",
        "top_director_score = top_director_score.sort_values(by='score', ascending=False).head(10).reset_index()"
      ],
      "execution_count": 26,
      "outputs": []
    },
    {
      "cell_type": "code",
      "metadata": {
        "colab": {
          "base_uri": "https://localhost:8080/",
          "height": 363
        },
        "id": "3VMM0XdO3-ik",
        "outputId": "9075810a-9fe9-459b-b0d5-02645642a456"
      },
      "source": [
        "top_star"
      ],
      "execution_count": 27,
      "outputs": [
        {
          "output_type": "execute_result",
          "data": {
            "text/html": [
              "<div>\n",
              "<style scoped>\n",
              "    .dataframe tbody tr th:only-of-type {\n",
              "        vertical-align: middle;\n",
              "    }\n",
              "\n",
              "    .dataframe tbody tr th {\n",
              "        vertical-align: top;\n",
              "    }\n",
              "\n",
              "    .dataframe thead th {\n",
              "        text-align: right;\n",
              "    }\n",
              "</style>\n",
              "<table border=\"1\" class=\"dataframe\">\n",
              "  <thead>\n",
              "    <tr style=\"text-align: right;\">\n",
              "      <th></th>\n",
              "      <th>star</th>\n",
              "      <th>count</th>\n",
              "      <th>gross</th>\n",
              "      <th>average_earning</th>\n",
              "    </tr>\n",
              "  </thead>\n",
              "  <tbody>\n",
              "    <tr>\n",
              "      <th>226</th>\n",
              "      <td>Chris Pratt</td>\n",
              "      <td>6</td>\n",
              "      <td>5.278456e+09</td>\n",
              "      <td>8.797427e+08</td>\n",
              "    </tr>\n",
              "    <tr>\n",
              "      <th>287</th>\n",
              "      <td>Sam Worthington</td>\n",
              "      <td>5</td>\n",
              "      <td>3.787009e+09</td>\n",
              "      <td>7.574019e+08</td>\n",
              "    </tr>\n",
              "    <tr>\n",
              "      <th>106</th>\n",
              "      <td>Daniel Radcliffe</td>\n",
              "      <td>10</td>\n",
              "      <td>6.971268e+09</td>\n",
              "      <td>6.971268e+08</td>\n",
              "    </tr>\n",
              "    <tr>\n",
              "      <th>40</th>\n",
              "      <td>Robert Downey Jr.</td>\n",
              "      <td>19</td>\n",
              "      <td>1.185594e+10</td>\n",
              "      <td>6.239967e+08</td>\n",
              "    </tr>\n",
              "    <tr>\n",
              "      <th>258</th>\n",
              "      <td>Ray Romano</td>\n",
              "      <td>5</td>\n",
              "      <td>2.839871e+09</td>\n",
              "      <td>5.679742e+08</td>\n",
              "    </tr>\n",
              "    <tr>\n",
              "      <th>236</th>\n",
              "      <td>Chris Evans</td>\n",
              "      <td>5</td>\n",
              "      <td>2.368157e+09</td>\n",
              "      <td>4.736314e+08</td>\n",
              "    </tr>\n",
              "    <tr>\n",
              "      <th>134</th>\n",
              "      <td>Daniel Craig</td>\n",
              "      <td>9</td>\n",
              "      <td>4.005561e+09</td>\n",
              "      <td>4.450623e+08</td>\n",
              "    </tr>\n",
              "    <tr>\n",
              "      <th>186</th>\n",
              "      <td>Kristen Bell</td>\n",
              "      <td>7</td>\n",
              "      <td>2.945869e+09</td>\n",
              "      <td>4.208384e+08</td>\n",
              "    </tr>\n",
              "    <tr>\n",
              "      <th>129</th>\n",
              "      <td>Kristen Stewart</td>\n",
              "      <td>9</td>\n",
              "      <td>3.780967e+09</td>\n",
              "      <td>4.201075e+08</td>\n",
              "    </tr>\n",
              "    <tr>\n",
              "      <th>55</th>\n",
              "      <td>Vin Diesel</td>\n",
              "      <td>15</td>\n",
              "      <td>6.036313e+09</td>\n",
              "      <td>4.024208e+08</td>\n",
              "    </tr>\n",
              "  </tbody>\n",
              "</table>\n",
              "</div>"
            ],
            "text/plain": [
              "                  star  count         gross  average_earning\n",
              "226        Chris Pratt      6  5.278456e+09     8.797427e+08\n",
              "287    Sam Worthington      5  3.787009e+09     7.574019e+08\n",
              "106   Daniel Radcliffe     10  6.971268e+09     6.971268e+08\n",
              "40   Robert Downey Jr.     19  1.185594e+10     6.239967e+08\n",
              "258         Ray Romano      5  2.839871e+09     5.679742e+08\n",
              "236        Chris Evans      5  2.368157e+09     4.736314e+08\n",
              "134       Daniel Craig      9  4.005561e+09     4.450623e+08\n",
              "186       Kristen Bell      7  2.945869e+09     4.208384e+08\n",
              "129    Kristen Stewart      9  3.780967e+09     4.201075e+08\n",
              "55          Vin Diesel     15  6.036313e+09     4.024208e+08"
            ]
          },
          "metadata": {},
          "execution_count": 27
        }
      ]
    },
    {
      "cell_type": "markdown",
      "metadata": {
        "id": "geKDRIJ4CUBn"
      },
      "source": [
        "AVERAGE INCOME MADE BY MOVIES OF ACTOR WHO ACTED IN MORE THAN 5 FILMS"
      ]
    },
    {
      "cell_type": "code",
      "metadata": {
        "colab": {
          "base_uri": "https://localhost:8080/",
          "height": 317
        },
        "id": "iXQUWt9X3UW7",
        "outputId": "a903221d-13cd-4c42-a840-9028c1d5c46c"
      },
      "source": [
        "ax_1 = sns.barplot(y='star', x ='average_earning', data=top_star[:10], palette='Set1')\n",
        "ax_1.set_title('Actors', fontsize=20)\n",
        "ax_1.set_xlabel('Average Earning per movie')"
      ],
      "execution_count": 28,
      "outputs": [
        {
          "output_type": "execute_result",
          "data": {
            "text/plain": [
              "Text(0.5, 0, 'Average Earning per movie')"
            ]
          },
          "metadata": {},
          "execution_count": 28
        },
        {
          "output_type": "display_data",
          "data": {
            "image/png": "[encoded data removed]",
            "text/plain": [
              "<Figure size 432x288 with 1 Axes>"
            ]
          },
          "metadata": {
            "needs_background": "light"
          }
        }
      ]
    },
    {
      "cell_type": "markdown",
      "metadata": {
        "id": "fGvmOMmqDToH"
      },
      "source": [
        "AVERAGE INCOME MADE BY MOVIES OF DIRECTOR WHO DIRECTED MORE THAN 5 FILMS"
      ]
    },
    {
      "cell_type": "code",
      "metadata": {
        "colab": {
          "base_uri": "https://localhost:8080/",
          "height": 317
        },
        "id": "6pk5eK5O5JW7",
        "outputId": "a64a66a1-79cb-4f4e-f056-1fa7d79518f5"
      },
      "source": [
        "ax_1 = sns.barplot(y='director', x ='average_earning', data=top_director[:10], palette='Set2')\n",
        "ax_1.set_title('director', fontsize=20)\n",
        "ax_1.set_xlabel('Average Earning per movie')"
      ],
      "execution_count": 29,
      "outputs": [
        {
          "output_type": "execute_result",
          "data": {
            "text/plain": [
              "Text(0.5, 0, 'Average Earning per movie')"
            ]
          },
          "metadata": {},
          "execution_count": 29
        },
        {
          "output_type": "display_data",
          "data": {
            "image/png": "[encoded data removed]",
            "text/plain": [
              "<Figure size 432x288 with 1 Axes>"
            ]
          },
          "metadata": {
            "needs_background": "light"
          }
        }
      ]
    },
    {
      "cell_type": "markdown",
      "metadata": {
        "id": "4gT8NoZWDbHM"
      },
      "source": [
        "AVERAGE RATING OF TOP ACTORS"
      ]
    },
    {
      "cell_type": "code",
      "metadata": {
        "colab": {
          "base_uri": "https://localhost:8080/",
          "height": 317
        },
        "id": "8DeOn-XU2Wxb",
        "outputId": "ed43450a-92cb-46b7-8a3d-254f3cf9df25"
      },
      "source": [
        "ax_1 = sns.barplot(y='star', x ='score', data=top_star_score, palette='Set3')\n",
        "ax_1.set_title('Actors', fontsize=20)\n",
        "ax_1.set_xlabel('RATING')"
      ],
      "execution_count": 30,
      "outputs": [
        {
          "output_type": "execute_result",
          "data": {
            "text/plain": [
              "Text(0.5, 0, 'RATING')"
            ]
          },
          "metadata": {},
          "execution_count": 30
        },
        {
          "output_type": "display_data",
          "data": {
            "image/png": "[encoded data removed]",
            "text/plain": [
              "<Figure size 432x288 with 1 Axes>"
            ]
          },
          "metadata": {
            "needs_background": "light"
          }
        }
      ]
    },
    {
      "cell_type": "markdown",
      "metadata": {
        "id": "NuybnjbnDrAN"
      },
      "source": [
        "AVERAGE RATING OF TOP DIRECTORS"
      ]
    },
    {
      "cell_type": "code",
      "metadata": {
        "colab": {
          "base_uri": "https://localhost:8080/",
          "height": 317
        },
        "id": "iBK21nhBxlEY",
        "outputId": "4bbcacef-d540-4d6d-d64f-9976baa84ad6"
      },
      "source": [
        "ax_1 = sns.barplot(y='director', x ='score', data=top_director_score, palette='Set1')\n",
        "ax_1.set_title('Director', fontsize=20)\n",
        "ax_1.set_xlabel('RATING')"
      ],
      "execution_count": 31,
      "outputs": [
        {
          "output_type": "execute_result",
          "data": {
            "text/plain": [
              "Text(0.5, 0, 'RATING')"
            ]
          },
          "metadata": {},
          "execution_count": 31
        },
        {
          "output_type": "display_data",
          "data": {
            "image/png": "[encoded data removed]",
            "text/plain": [
              "<Figure size 432x288 with 1 Axes>"
            ]
          },
          "metadata": {
            "needs_background": "light"
          }
        }
      ]
    },
    {
      "cell_type": "code",
      "metadata": {
        "colab": {
          "base_uri": "https://localhost:8080/",
          "height": 237
        },
        "id": "LJd9btFf3Tph",
        "outputId": "2d728d64-3057-496f-b083-65788f8ab654"
      },
      "source": [
        "df.corr()"
      ],
      "execution_count": 32,
      "outputs": [
        {
          "output_type": "execute_result",
          "data": {
            "text/html": [
              "<div>\n",
              "<style scoped>\n",
              "    .dataframe tbody tr th:only-of-type {\n",
              "        vertical-align: middle;\n",
              "    }\n",
              "\n",
              "    .dataframe tbody tr th {\n",
              "        vertical-align: top;\n",
              "    }\n",
              "\n",
              "    .dataframe thead th {\n",
              "        text-align: right;\n",
              "    }\n",
              "</style>\n",
              "<table border=\"1\" class=\"dataframe\">\n",
              "  <thead>\n",
              "    <tr style=\"text-align: right;\">\n",
              "      <th></th>\n",
              "      <th>year</th>\n",
              "      <th>score</th>\n",
              "      <th>votes</th>\n",
              "      <th>budget</th>\n",
              "      <th>gross</th>\n",
              "      <th>runtime</th>\n",
              "    </tr>\n",
              "  </thead>\n",
              "  <tbody>\n",
              "    <tr>\n",
              "      <th>year</th>\n",
              "      <td>1.000000</td>\n",
              "      <td>0.056386</td>\n",
              "      <td>0.206021</td>\n",
              "      <td>0.327722</td>\n",
              "      <td>0.274321</td>\n",
              "      <td>0.075077</td>\n",
              "    </tr>\n",
              "    <tr>\n",
              "      <th>score</th>\n",
              "      <td>0.056386</td>\n",
              "      <td>1.000000</td>\n",
              "      <td>0.474256</td>\n",
              "      <td>0.072001</td>\n",
              "      <td>0.222556</td>\n",
              "      <td>0.414068</td>\n",
              "    </tr>\n",
              "    <tr>\n",
              "      <th>votes</th>\n",
              "      <td>0.206021</td>\n",
              "      <td>0.474256</td>\n",
              "      <td>1.000000</td>\n",
              "      <td>0.439675</td>\n",
              "      <td>0.614751</td>\n",
              "      <td>0.352303</td>\n",
              "    </tr>\n",
              "    <tr>\n",
              "      <th>budget</th>\n",
              "      <td>0.327722</td>\n",
              "      <td>0.072001</td>\n",
              "      <td>0.439675</td>\n",
              "      <td>1.000000</td>\n",
              "      <td>0.740247</td>\n",
              "      <td>0.318695</td>\n",
              "    </tr>\n",
              "    <tr>\n",
              "      <th>gross</th>\n",
              "      <td>0.274321</td>\n",
              "      <td>0.222556</td>\n",
              "      <td>0.614751</td>\n",
              "      <td>0.740247</td>\n",
              "      <td>1.000000</td>\n",
              "      <td>0.275796</td>\n",
              "    </tr>\n",
              "    <tr>\n",
              "      <th>runtime</th>\n",
              "      <td>0.075077</td>\n",
              "      <td>0.414068</td>\n",
              "      <td>0.352303</td>\n",
              "      <td>0.318695</td>\n",
              "      <td>0.275796</td>\n",
              "      <td>1.000000</td>\n",
              "    </tr>\n",
              "  </tbody>\n",
              "</table>\n",
              "</div>"
            ],
            "text/plain": [
              "             year     score     votes    budget     gross   runtime\n",
              "year     1.000000  0.056386  0.206021  0.327722  0.274321  0.075077\n",
              "score    0.056386  1.000000  0.474256  0.072001  0.222556  0.414068\n",
              "votes    0.206021  0.474256  1.000000  0.439675  0.614751  0.352303\n",
              "budget   0.327722  0.072001  0.439675  1.000000  0.740247  0.318695\n",
              "gross    0.274321  0.222556  0.614751  0.740247  1.000000  0.275796\n",
              "runtime  0.075077  0.414068  0.352303  0.318695  0.275796  1.000000"
            ]
          },
          "metadata": {},
          "execution_count": 32
        }
      ]
    },
    {
      "cell_type": "code",
      "metadata": {
        "colab": {
          "base_uri": "https://localhost:8080/",
          "height": 341
        },
        "id": "HG8cSmH67kFU",
        "outputId": "030cadb8-3dc2-4481-f5f2-4e18b32f0e98"
      },
      "source": [
        "plt.figure(figsize=(10,5))\n",
        "sns.heatmap(df.corr(),cmap=\"YlGnBu\",annot=True)"
      ],
      "execution_count": 33,
      "outputs": [
        {
          "output_type": "execute_result",
          "data": {
            "text/plain": [
              "<matplotlib.axes._subplots.AxesSubplot at 0x7f4633e4e410>"
            ]
          },
          "metadata": {},
          "execution_count": 33
        },
        {
          "output_type": "display_data",
          "data": {
            "image/png": "[encoded data removed]",
            "text/plain": [
              "<Figure size 720x360 with 2 Axes>"
            ]
          },
          "metadata": {
            "needs_background": "light"
          }
        }
      ]
    },
    {
      "cell_type": "markdown",
      "metadata": {
        "id": "NnC-xvafEYZT"
      },
      "source": [
        "WE CAN OBSERVE THAT GROSS AND BUDGET ARE HIGHLY CORRELATED"
      ]
    }
  ]
}